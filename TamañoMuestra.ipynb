{
 "cells": [
  {
   "cell_type": "code",
   "execution_count": 1,
   "metadata": {},
   "outputs": [
    {
     "name": "stdout",
     "output_type": "stream",
     "text": [
      "Intel MKL WARNING: Support of Intel(R) Streaming SIMD Extensions 4.2 (Intel(R) SSE4.2) enabled only processors has been deprecated. Intel oneAPI Math Kernel Library 2025.0 will require Intel(R) Advanced Vector Extensions (Intel(R) AVX) instructions.\n",
      "Intel MKL WARNING: Support of Intel(R) Streaming SIMD Extensions 4.2 (Intel(R) SSE4.2) enabled only processors has been deprecated. Intel oneAPI Math Kernel Library 2025.0 will require Intel(R) Advanced Vector Extensions (Intel(R) AVX) instructions.\n"
     ]
    }
   ],
   "source": [
    "import pandas as pd"
   ]
  },
  {
   "cell_type": "markdown",
   "metadata": {},
   "source": [
    "## Se evalua el tamaño de la Muestra"
   ]
  },
  {
   "cell_type": "markdown",
   "metadata": {},
   "source": [
    "### Tamaño de Muestra: N = 15"
   ]
  },
  {
   "cell_type": "markdown",
   "metadata": {},
   "source": [
    "Se realizo una muestra con 15 permutaciones para cada uno de los escenarios. El parameter variation se realizo:\n",
    "\n",
    "Si PTL era falso:\n",
    "- Cantidad de Operarios de MODO entre 0 y 30 con 5 operarios de step.\n",
    "\n",
    "Si PTL era verdadero:\n",
    "- Cantidad de Operarios de MODO entre 0 y 30 con 5 operarios de step.\n",
    "- Cantidad de Racks de Staging entre 1 y 5."
   ]
  },
  {
   "cell_type": "code",
   "execution_count": 294,
   "metadata": {},
   "outputs": [],
   "source": [
    "df = pd.read_excel('Data/Data.xlsx')"
   ]
  },
  {
   "cell_type": "code",
   "execution_count": 295,
   "metadata": {},
   "outputs": [],
   "source": [
    "# Agrupo con Maximo, Minimo, Media, Desviacion Estandar, Cantidad de datos\n",
    "groupNS = df.groupby('Escenario').agg({'nivelServicio': ['max', 'min', 'mean', 'std', 'count']})"
   ]
  },
  {
   "cell_type": "code",
   "execution_count": 296,
   "metadata": {},
   "outputs": [],
   "source": [
    "# Convertir los resultados a DataFrame\n",
    "df_ns = groupNS.reset_index()"
   ]
  },
  {
   "cell_type": "code",
   "execution_count": 297,
   "metadata": {},
   "outputs": [],
   "source": [
    "df_ns.columns = ['Escenario', 'NSMax', 'NSMin', 'NSMean', 'NSStd', 'NSCount']"
   ]
  },
  {
   "cell_type": "markdown",
   "metadata": {},
   "source": [
    "Se evalua si para cada uno de los escenarios se logra un nivel de precision del 5% del Nivel de Servicio con 0.95 de confianza. Se evalua unicamente sobre el nivel de servicio porque el costo no tiene componente aleatorio."
   ]
  },
  {
   "cell_type": "code",
   "execution_count": 299,
   "metadata": {},
   "outputs": [],
   "source": [
    "df_ns['HW0'] = 0.05\n",
    "df_ns['HW'] = 1.96 * df_ns['NSStd'] / df_ns['NSCount'] ** 0.5\n",
    "df_ns['HW < HW0']= df_ns['HW'] < df_ns['HW0']"
   ]
  },
  {
   "cell_type": "code",
   "execution_count": 300,
   "metadata": {},
   "outputs": [
    {
     "name": "stdout",
     "output_type": "stream",
     "text": [
      "No se puede rechazar la hipotesis nula\n"
     ]
    }
   ],
   "source": [
    "if(df_ns['HW < HW0'].any()):\n",
    "    print('No se puede rechazar la hipotesis nula')\n",
    "else:\n",
    "    print('Se rechaza la hipotesis nula')"
   ]
  },
  {
   "cell_type": "code",
   "execution_count": 301,
   "metadata": {},
   "outputs": [
    {
     "data": {
      "text/html": [
       "<div>\n",
       "<style scoped>\n",
       "    .dataframe tbody tr th:only-of-type {\n",
       "        vertical-align: middle;\n",
       "    }\n",
       "\n",
       "    .dataframe tbody tr th {\n",
       "        vertical-align: top;\n",
       "    }\n",
       "\n",
       "    .dataframe thead th {\n",
       "        text-align: right;\n",
       "    }\n",
       "</style>\n",
       "<table border=\"1\" class=\"dataframe\">\n",
       "  <thead>\n",
       "    <tr style=\"text-align: right;\">\n",
       "      <th></th>\n",
       "      <th>Escenario</th>\n",
       "      <th>NSMax</th>\n",
       "      <th>NSMin</th>\n",
       "      <th>NSMean</th>\n",
       "      <th>NSStd</th>\n",
       "      <th>NSCount</th>\n",
       "      <th>HW0</th>\n",
       "      <th>HW</th>\n",
       "      <th>HW &lt; HW0</th>\n",
       "    </tr>\n",
       "  </thead>\n",
       "  <tbody>\n",
       "    <tr>\n",
       "      <th>6</th>\n",
       "      <td>1TRUE0</td>\n",
       "      <td>0.594203</td>\n",
       "      <td>0.206767</td>\n",
       "      <td>0.384283</td>\n",
       "      <td>0.140943</td>\n",
       "      <td>15</td>\n",
       "      <td>0.05</td>\n",
       "      <td>0.071327</td>\n",
       "      <td>False</td>\n",
       "    </tr>\n",
       "    <tr>\n",
       "      <th>7</th>\n",
       "      <td>1TRUE10</td>\n",
       "      <td>0.863636</td>\n",
       "      <td>0.413333</td>\n",
       "      <td>0.690291</td>\n",
       "      <td>0.160812</td>\n",
       "      <td>15</td>\n",
       "      <td>0.05</td>\n",
       "      <td>0.081382</td>\n",
       "      <td>False</td>\n",
       "    </tr>\n",
       "    <tr>\n",
       "      <th>8</th>\n",
       "      <td>1TRUE15</td>\n",
       "      <td>0.874251</td>\n",
       "      <td>0.572954</td>\n",
       "      <td>0.761143</td>\n",
       "      <td>0.100393</td>\n",
       "      <td>15</td>\n",
       "      <td>0.05</td>\n",
       "      <td>0.050806</td>\n",
       "      <td>False</td>\n",
       "    </tr>\n",
       "    <tr>\n",
       "      <th>9</th>\n",
       "      <td>1TRUE20</td>\n",
       "      <td>0.861486</td>\n",
       "      <td>0.400000</td>\n",
       "      <td>0.688591</td>\n",
       "      <td>0.148155</td>\n",
       "      <td>15</td>\n",
       "      <td>0.05</td>\n",
       "      <td>0.074977</td>\n",
       "      <td>False</td>\n",
       "    </tr>\n",
       "    <tr>\n",
       "      <th>10</th>\n",
       "      <td>1TRUE25</td>\n",
       "      <td>0.858108</td>\n",
       "      <td>0.417763</td>\n",
       "      <td>0.662690</td>\n",
       "      <td>0.140902</td>\n",
       "      <td>15</td>\n",
       "      <td>0.05</td>\n",
       "      <td>0.071306</td>\n",
       "      <td>False</td>\n",
       "    </tr>\n",
       "    <tr>\n",
       "      <th>11</th>\n",
       "      <td>1TRUE30</td>\n",
       "      <td>0.863333</td>\n",
       "      <td>0.414286</td>\n",
       "      <td>0.757170</td>\n",
       "      <td>0.125722</td>\n",
       "      <td>15</td>\n",
       "      <td>0.05</td>\n",
       "      <td>0.063624</td>\n",
       "      <td>False</td>\n",
       "    </tr>\n",
       "    <tr>\n",
       "      <th>12</th>\n",
       "      <td>1TRUE5</td>\n",
       "      <td>0.872483</td>\n",
       "      <td>0.430556</td>\n",
       "      <td>0.693546</td>\n",
       "      <td>0.136384</td>\n",
       "      <td>15</td>\n",
       "      <td>0.05</td>\n",
       "      <td>0.069020</td>\n",
       "      <td>False</td>\n",
       "    </tr>\n",
       "    <tr>\n",
       "      <th>13</th>\n",
       "      <td>2TRUE0</td>\n",
       "      <td>0.837931</td>\n",
       "      <td>0.329412</td>\n",
       "      <td>0.669431</td>\n",
       "      <td>0.166273</td>\n",
       "      <td>15</td>\n",
       "      <td>0.05</td>\n",
       "      <td>0.084146</td>\n",
       "      <td>False</td>\n",
       "    </tr>\n",
       "    <tr>\n",
       "      <th>14</th>\n",
       "      <td>2TRUE10</td>\n",
       "      <td>0.868339</td>\n",
       "      <td>0.368601</td>\n",
       "      <td>0.781267</td>\n",
       "      <td>0.128784</td>\n",
       "      <td>15</td>\n",
       "      <td>0.05</td>\n",
       "      <td>0.065173</td>\n",
       "      <td>False</td>\n",
       "    </tr>\n",
       "    <tr>\n",
       "      <th>20</th>\n",
       "      <td>3TRUE0</td>\n",
       "      <td>0.864583</td>\n",
       "      <td>0.333333</td>\n",
       "      <td>0.786453</td>\n",
       "      <td>0.139247</td>\n",
       "      <td>15</td>\n",
       "      <td>0.05</td>\n",
       "      <td>0.070469</td>\n",
       "      <td>False</td>\n",
       "    </tr>\n",
       "    <tr>\n",
       "      <th>26</th>\n",
       "      <td>3TRUE5</td>\n",
       "      <td>0.872204</td>\n",
       "      <td>0.434615</td>\n",
       "      <td>0.805932</td>\n",
       "      <td>0.114370</td>\n",
       "      <td>15</td>\n",
       "      <td>0.05</td>\n",
       "      <td>0.057879</td>\n",
       "      <td>False</td>\n",
       "    </tr>\n",
       "    <tr>\n",
       "      <th>30</th>\n",
       "      <td>4TRUE20</td>\n",
       "      <td>0.869427</td>\n",
       "      <td>0.457249</td>\n",
       "      <td>0.826864</td>\n",
       "      <td>0.104410</td>\n",
       "      <td>15</td>\n",
       "      <td>0.05</td>\n",
       "      <td>0.052839</td>\n",
       "      <td>False</td>\n",
       "    </tr>\n",
       "    <tr>\n",
       "      <th>34</th>\n",
       "      <td>5TRUE0</td>\n",
       "      <td>0.873188</td>\n",
       "      <td>0.282528</td>\n",
       "      <td>0.735360</td>\n",
       "      <td>0.172015</td>\n",
       "      <td>15</td>\n",
       "      <td>0.05</td>\n",
       "      <td>0.087052</td>\n",
       "      <td>False</td>\n",
       "    </tr>\n",
       "  </tbody>\n",
       "</table>\n",
       "</div>"
      ],
      "text/plain": [
       "   Escenario     NSMax     NSMin    NSMean     NSStd  NSCount   HW0        HW   \n",
       "6     1TRUE0  0.594203  0.206767  0.384283  0.140943       15  0.05  0.071327  \\\n",
       "7    1TRUE10  0.863636  0.413333  0.690291  0.160812       15  0.05  0.081382   \n",
       "8    1TRUE15  0.874251  0.572954  0.761143  0.100393       15  0.05  0.050806   \n",
       "9    1TRUE20  0.861486  0.400000  0.688591  0.148155       15  0.05  0.074977   \n",
       "10   1TRUE25  0.858108  0.417763  0.662690  0.140902       15  0.05  0.071306   \n",
       "11   1TRUE30  0.863333  0.414286  0.757170  0.125722       15  0.05  0.063624   \n",
       "12    1TRUE5  0.872483  0.430556  0.693546  0.136384       15  0.05  0.069020   \n",
       "13    2TRUE0  0.837931  0.329412  0.669431  0.166273       15  0.05  0.084146   \n",
       "14   2TRUE10  0.868339  0.368601  0.781267  0.128784       15  0.05  0.065173   \n",
       "20    3TRUE0  0.864583  0.333333  0.786453  0.139247       15  0.05  0.070469   \n",
       "26    3TRUE5  0.872204  0.434615  0.805932  0.114370       15  0.05  0.057879   \n",
       "30   4TRUE20  0.869427  0.457249  0.826864  0.104410       15  0.05  0.052839   \n",
       "34    5TRUE0  0.873188  0.282528  0.735360  0.172015       15  0.05  0.087052   \n",
       "\n",
       "    HW < HW0  \n",
       "6      False  \n",
       "7      False  \n",
       "8      False  \n",
       "9      False  \n",
       "10     False  \n",
       "11     False  \n",
       "12     False  \n",
       "13     False  \n",
       "14     False  \n",
       "20     False  \n",
       "26     False  \n",
       "30     False  \n",
       "34     False  "
      ]
     },
     "execution_count": 301,
     "metadata": {},
     "output_type": "execute_result"
    }
   ],
   "source": [
    "df_ns[df_ns['HW < HW0'] == False]"
   ]
  },
  {
   "cell_type": "markdown",
   "metadata": {},
   "source": [
    "Por esa razon, se debe evaluar nuevamente con una muestra mayor. "
   ]
  },
  {
   "cell_type": "markdown",
   "metadata": {},
   "source": [
    "### Tamaño de Muestra: N = 30"
   ]
  },
  {
   "cell_type": "code",
   "execution_count": 302,
   "metadata": {},
   "outputs": [],
   "source": [
    "df = pd.read_excel('Data/Data2.xlsx')"
   ]
  },
  {
   "cell_type": "code",
   "execution_count": 303,
   "metadata": {},
   "outputs": [],
   "source": [
    "# Agrupo con Maximo, Minimo, Media, Desviacion Estandar, Cantidad de datos\n",
    "groupNS = df.groupby('Escenario').agg({'nivelServicio': ['max', 'min', 'mean', 'std', 'count']})"
   ]
  },
  {
   "cell_type": "code",
   "execution_count": 304,
   "metadata": {},
   "outputs": [],
   "source": [
    "# Convertir los resultados a DataFrame\n",
    "df_ns = groupNS.reset_index()"
   ]
  },
  {
   "cell_type": "code",
   "execution_count": 305,
   "metadata": {},
   "outputs": [],
   "source": [
    "df_ns.columns = ['Escenario', 'NSMax', 'NSMin', 'NSMean', 'NSStd', 'NSCount']"
   ]
  },
  {
   "cell_type": "markdown",
   "metadata": {},
   "source": [
    "Se evalua si para cada uno de los escenarios se logra un nivel de precision del 5% del Nivel de Servicio con 0.95 de confianza. Se evalua unicamente sobre el nivel de servicio porque el costo no tiene componente aleatorio."
   ]
  },
  {
   "cell_type": "code",
   "execution_count": 306,
   "metadata": {},
   "outputs": [],
   "source": [
    "df_ns['HW0'] = 0.05\n",
    "df_ns['HW'] = 1.96 * df_ns['NSStd'] / df_ns['NSCount'] ** 0.5\n",
    "df_ns['HW < HW0']= df_ns['HW'] < df_ns['HW0']"
   ]
  },
  {
   "cell_type": "code",
   "execution_count": 307,
   "metadata": {},
   "outputs": [
    {
     "name": "stdout",
     "output_type": "stream",
     "text": [
      "No se puede rechazar la hipotesis nula\n"
     ]
    }
   ],
   "source": [
    "if(df_ns['HW < HW0'].any()):\n",
    "    print('No se puede rechazar la hipotesis nula')\n",
    "else:\n",
    "    print('Se rechaza la hipotesis nula')"
   ]
  },
  {
   "cell_type": "code",
   "execution_count": 308,
   "metadata": {},
   "outputs": [
    {
     "data": {
      "text/html": [
       "<div>\n",
       "<style scoped>\n",
       "    .dataframe tbody tr th:only-of-type {\n",
       "        vertical-align: middle;\n",
       "    }\n",
       "\n",
       "    .dataframe tbody tr th {\n",
       "        vertical-align: top;\n",
       "    }\n",
       "\n",
       "    .dataframe thead th {\n",
       "        text-align: right;\n",
       "    }\n",
       "</style>\n",
       "<table border=\"1\" class=\"dataframe\">\n",
       "  <thead>\n",
       "    <tr style=\"text-align: right;\">\n",
       "      <th></th>\n",
       "      <th>Escenario</th>\n",
       "      <th>NSMax</th>\n",
       "      <th>NSMin</th>\n",
       "      <th>NSMean</th>\n",
       "      <th>NSStd</th>\n",
       "      <th>NSCount</th>\n",
       "      <th>HW0</th>\n",
       "      <th>HW</th>\n",
       "      <th>HW &lt; HW0</th>\n",
       "    </tr>\n",
       "  </thead>\n",
       "  <tbody>\n",
       "    <tr>\n",
       "      <th>8</th>\n",
       "      <td>1TRUE10</td>\n",
       "      <td>0.866221</td>\n",
       "      <td>0.413333</td>\n",
       "      <td>0.724030</td>\n",
       "      <td>0.141657</td>\n",
       "      <td>30</td>\n",
       "      <td>0.05</td>\n",
       "      <td>0.050691</td>\n",
       "      <td>False</td>\n",
       "    </tr>\n",
       "    <tr>\n",
       "      <th>14</th>\n",
       "      <td>2TRUE0</td>\n",
       "      <td>0.837931</td>\n",
       "      <td>0.323671</td>\n",
       "      <td>0.670285</td>\n",
       "      <td>0.151112</td>\n",
       "      <td>30</td>\n",
       "      <td>0.05</td>\n",
       "      <td>0.054075</td>\n",
       "      <td>False</td>\n",
       "    </tr>\n",
       "    <tr>\n",
       "      <th>35</th>\n",
       "      <td>5TRUE0</td>\n",
       "      <td>0.873188</td>\n",
       "      <td>0.282528</td>\n",
       "      <td>0.722379</td>\n",
       "      <td>0.161514</td>\n",
       "      <td>30</td>\n",
       "      <td>0.05</td>\n",
       "      <td>0.057797</td>\n",
       "      <td>False</td>\n",
       "    </tr>\n",
       "  </tbody>\n",
       "</table>\n",
       "</div>"
      ],
      "text/plain": [
       "   Escenario     NSMax     NSMin    NSMean     NSStd  NSCount   HW0        HW   \n",
       "8    1TRUE10  0.866221  0.413333  0.724030  0.141657       30  0.05  0.050691  \\\n",
       "14    2TRUE0  0.837931  0.323671  0.670285  0.151112       30  0.05  0.054075   \n",
       "35    5TRUE0  0.873188  0.282528  0.722379  0.161514       30  0.05  0.057797   \n",
       "\n",
       "    HW < HW0  \n",
       "8      False  \n",
       "14     False  \n",
       "35     False  "
      ]
     },
     "execution_count": 308,
     "metadata": {},
     "output_type": "execute_result"
    }
   ],
   "source": [
    "df_ns[df_ns['HW < HW0'] == False]"
   ]
  },
  {
   "cell_type": "markdown",
   "metadata": {},
   "source": [
    "Sigue sin cumplirse la precision esperada."
   ]
  },
  {
   "cell_type": "markdown",
   "metadata": {},
   "source": [
    "### Tamaño de Muestra: N = 60"
   ]
  },
  {
   "cell_type": "code",
   "execution_count": 7,
   "metadata": {},
   "outputs": [],
   "source": [
    "df = pd.read_excel('Data/Data3.xlsx')"
   ]
  },
  {
   "cell_type": "code",
   "execution_count": 8,
   "metadata": {},
   "outputs": [],
   "source": [
    "# Agrupo con Maximo, Minimo, Media, Desviacion Estandar, Cantidad de datos\n",
    "groupNS = df.groupby('Escenario').agg({'nivelServicio': ['max', 'min', 'mean', 'std', 'count']})"
   ]
  },
  {
   "cell_type": "code",
   "execution_count": 9,
   "metadata": {},
   "outputs": [],
   "source": [
    "# Convertir los resultados a DataFrame\n",
    "df_ns = groupNS.reset_index()"
   ]
  },
  {
   "cell_type": "code",
   "execution_count": 10,
   "metadata": {},
   "outputs": [],
   "source": [
    "df_ns.columns = ['Escenario', 'NSMax', 'NSMin', 'NSMean', 'NSStd', 'NSCount']"
   ]
  },
  {
   "cell_type": "markdown",
   "metadata": {},
   "source": [
    "Se evalua si para cada uno de los escenarios se logra un nivel de precision del 5% del Nivel de Servicio con 0.95 de confianza. Se evalua unicamente sobre el nivel de servicio porque el costo no tiene componente aleatorio."
   ]
  },
  {
   "cell_type": "code",
   "execution_count": 11,
   "metadata": {},
   "outputs": [],
   "source": [
    "df_ns['HW0'] = 0.05\n",
    "df_ns['HW'] = 1.96 * df_ns['NSStd'] / df_ns['NSCount'] ** 0.5\n",
    "df_ns['HW < HW0']= df_ns['HW'] < df_ns['HW0']"
   ]
  },
  {
   "cell_type": "code",
   "execution_count": 12,
   "metadata": {},
   "outputs": [
    {
     "name": "stdout",
     "output_type": "stream",
     "text": [
      "Se rechaza la hipotesis nula\n"
     ]
    }
   ],
   "source": [
    "if not (df_ns['HW < HW0'].any()):\n",
    "    print('No se puede rechazar la hipotesis nula')\n",
    "else:\n",
    "    print('Se rechaza la hipotesis nula')"
   ]
  },
  {
   "cell_type": "markdown",
   "metadata": {},
   "source": [
    "Una muestra de 60 iteraciones por escenario es lo suficientemente grande como para cumplir con el criterio de precision establecido en 5%."
   ]
  }
 ],
 "metadata": {
  "kernelspec": {
   "display_name": "itba_apa_env",
   "language": "python",
   "name": "python3"
  },
  "language_info": {
   "codemirror_mode": {
    "name": "ipython",
    "version": 3
   },
   "file_extension": ".py",
   "mimetype": "text/x-python",
   "name": "python",
   "nbconvert_exporter": "python",
   "pygments_lexer": "ipython3",
   "version": "3.10.13"
  }
 },
 "nbformat": 4,
 "nbformat_minor": 2
}
